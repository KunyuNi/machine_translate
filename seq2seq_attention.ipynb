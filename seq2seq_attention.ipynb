{
 "cells": [
  {
   "cell_type": "code",
   "execution_count": 1,
   "metadata": {},
   "outputs": [
    {
     "name": "stdout",
     "output_type": "stream",
     "text": [
      "2.2.0\n",
      "sys.version_info(major=3, minor=6, micro=9, releaselevel='final', serial=0)\n",
      "matplotlib 3.2.1\n",
      "numpy 1.18.5\n",
      "pandas 1.0.4\n",
      "sklearn 0.23.1\n",
      "tensorflow 2.2.0\n",
      "tensorflow.keras 2.3.0-tf\n"
     ]
    }
   ],
   "source": [
    "%matplotlib inline\n",
    "import matplotlib as mpl\n",
    "import matplotlib.pyplot as plt\n",
    "import numpy as np\n",
    "import os\n",
    "import pandas as pd\n",
    "import sklearn\n",
    "import sys\n",
    "import tensorflow as tf\n",
    "import time\n",
    "\n",
    "from tensorflow import keras\n",
    "\n",
    "print(tf.__version__)\n",
    "print(sys.version_info)\n",
    "for module in mpl, np, pd, sklearn, tf, keras:\n",
    "    print(module.__name__, module.__version__)"
   ]
  },
  {
   "cell_type": "code",
   "execution_count": 2,
   "metadata": {},
   "outputs": [],
   "source": [
    "import unicodedata\n",
    "import re\n",
    "from sklearn.model_selection import train_test_split"
   ]
  },
  {
   "cell_type": "code",
   "execution_count": 3,
   "metadata": {},
   "outputs": [
    {
     "name": "stdout",
     "output_type": "stream",
     "text": [
      "May I borrow this book?\n",
      "¿Puedo tomar prestado este libro?\n",
      "<start> may i borrow this book ? <end>\n",
      "<start> ¿ puedo tomar prestado este libro ? <end>\n",
      "b'<start> \\xc2\\xbf puedo tomar prestado este libro ? <end>'\n"
     ]
    }
   ],
   "source": [
    "#因为西班牙语有一些是特殊字符，所以我们需要unicode转ascii，\n",
    "# 这样值变小了，因为unicode太大\n",
    "def unicode_to_ascii(s):\n",
    "    #NFD是转换方法，把每一个字节拆开，Mn是重音，所以去除\n",
    "    return ''.join(c for c in unicodedata.normalize('NFD', s) if unicodedata.category(c) != 'Mn')\n",
    "\n",
    "#下面我们找个样本测试一下\n",
    "\n",
    "en_sentence = u\"May I borrow this book?\"\n",
    "sp_sentence = u\"¿Puedo tomar prestado este libro?\"\n",
    "\n",
    "print(unicode_to_ascii(en_sentence))\n",
    "print(unicode_to_ascii(sp_sentence))\n",
    "\n",
    "\n",
    "def preprocess_sentence(w):\n",
    "    #变为小写，去掉多余的空格\n",
    "    w = unicode_to_ascii(w.lower().strip())\n",
    "\n",
    "    # 在单词与跟在其后的标点符号之间插入一个空格\n",
    "    # eg: \"he is a boy.\" => \"he is a boy .\"\n",
    "    # Reference:- https://stackoverflow.com/questions/3645931/python-padding-punctuation-with-white-spaces-keeping-punctuation\n",
    "    w = re.sub(r\"([?.!,¿])\", r\" \\1 \", w)\n",
    "    #因为可能有多余空格，所以处理一下\n",
    "    w = re.sub(r'[\" \"]+', \" \", w)\n",
    "\n",
    "    # 除了 (a-z, A-Z, \".\", \"?\", \"!\", \",\")，将所有字符替换为空格\n",
    "    w = re.sub(r\"[^a-zA-Z?.!,¿]+\", \" \", w)\n",
    "\n",
    "    w = w.rstrip().strip()\n",
    "\n",
    "    # adding a start and an end token to the sentence\n",
    "    # so that the model know when to start and stop predicting.\n",
    "    w = '<start> ' + w + ' <end>'\n",
    "    return w\n",
    "\n",
    "print(preprocess_sentence(en_sentence))\n",
    "print(preprocess_sentence(sp_sentence))\n",
    "print(preprocess_sentence(sp_sentence).encode('utf-8'))"
   ]
  },
  {
   "cell_type": "code",
   "execution_count": 4,
   "metadata": {},
   "outputs": [
    {
     "name": "stdout",
     "output_type": "stream",
     "text": [
      "<class 'tuple'>\n",
      "<class 'tuple'>\n",
      "<start> if you want to sound like a native speaker , you must be willing to practice saying the same sentence over and over in the same way that banjo players practice the same phrase over and over until they can play it correctly and at the desired tempo . <end>\n",
      "<start> si quieres sonar como un hablante nativo , debes estar dispuesto a practicar diciendo la misma frase una y otra vez de la misma manera en que un musico de banjo practica el mismo fraseo una y otra vez hasta que lo puedan tocar correctamente y en el tiempo esperado . <end>\n"
     ]
    }
   ],
   "source": [
    "data_path = './data_spa_en/spa.txt'\n",
    "\n",
    "# 1. Remove the accents  移除口音\n",
    "# 2. Clean the sentences\n",
    "# 3. Return word pairs in the format: [ENGLISH, SPANISH]--> 前面西班牙，后面英文\n",
    "def create_dataset(path, num_examples):\n",
    "    lines = open(path, encoding='UTF-8').read().strip().split('\\n')\n",
    "\n",
    "    word_pairs = [[preprocess_sentence(w) for w in l.split('\\t')]  for l in lines[:num_examples]]\n",
    "\n",
    "    return zip(*word_pairs)\n",
    "\n",
    "en, sp = create_dataset(data_path, None)\n",
    "print(type(en))\n",
    "print(type(sp))\n",
    "len(en)\n",
    "print(en[-1])\n",
    "print(sp[-1])\n"
   ]
  },
  {
   "cell_type": "code",
   "execution_count": 5,
   "metadata": {},
   "outputs": [
    {
     "name": "stdout",
     "output_type": "stream",
     "text": [
      "(1, 3, 5) (2, 4, 6)\n"
     ]
    }
   ],
   "source": [
    "#如何理解上面的zip\n",
    "a=[ [1, 2],[3,4],[5,6] ]\n",
    "c,d=zip(*a)\n",
    "print(c,d)\n"
   ]
  },
  {
   "cell_type": "code",
   "execution_count": 6,
   "metadata": {},
   "outputs": [
    {
     "name": "stdout",
     "output_type": "stream",
     "text": [
      "--------------------------------------------------\n",
      "(30000, 16) (30000, 11) <keras_preprocessing.text.Tokenizer object at 0x7ff2b6922cf8> <keras_preprocessing.text.Tokenizer object at 0x7ff2b2d88828>\n",
      "--------------------------------------------------\n",
      "[  1 135   3   2   0   0   0   0   0   0   0   0   0   0   0   0]\n",
      "[ 1 36  3  2  0  0  0  0  0  0  0]\n",
      "[   1   23 2175   10   39   98   87  314    3    2    0    0    0    0\n",
      "    0    0]\n",
      "[ 1 16 38 72  6 55  3  2  0  0  0]\n",
      "11 16\n"
     ]
    }
   ],
   "source": [
    "def max_length(tensor):\n",
    "    return max(len(t) for t in tensor)\n",
    "\n",
    "def tokenize(lang):\n",
    "    #Tokenizer帮我们把词语式的转换为id式的，filters是黑名单\n",
    "    lang_tokenizer = tf.keras.preprocessing.text.Tokenizer(filters='')\n",
    "    lang_tokenizer.fit_on_texts(lang)\n",
    "    #变为id\n",
    "    tensor = lang_tokenizer.texts_to_sequences(lang)\n",
    "    #做padding\n",
    "    tensor = tf.keras.preprocessing.sequence.pad_sequences(tensor, padding='post')\n",
    "    return tensor, lang_tokenizer\n",
    "\n",
    "def load_dataset(path, num_examples=None):\n",
    "    # creating cleaned input, output pairs\n",
    "    targ_lang, inp_lang = create_dataset(path, num_examples)\n",
    "\n",
    "    input_tensor, inp_lang_tokenizer = tokenize(inp_lang)\n",
    "    target_tensor, targ_lang_tokenizer = tokenize(targ_lang)\n",
    "\n",
    "    return input_tensor, target_tensor, inp_lang_tokenizer, targ_lang_tokenizer\n",
    "\n",
    "# Try experimenting with the size of that dataset\n",
    "num_examples = 30000\n",
    "#inp_lang  targ_lang 是tokenizer\n",
    "input_tensor, target_tensor, inp_lang, targ_lang = load_dataset(data_path, num_examples)\n",
    "print('-'*50)\n",
    "print(input_tensor.shape, target_tensor.shape, inp_lang, targ_lang)\n",
    "print('-'*50)\n",
    "print(input_tensor[0])\n",
    "print(target_tensor[0])\n",
    "print(input_tensor[29999])\n",
    "print(target_tensor[29999])\n",
    "# Calculate max_length of the target tensors，可以看下最长的样本\n",
    "max_length_targ, max_length_inp = max_length(target_tensor), max_length(input_tensor)\n",
    "print(max_length_targ, max_length_inp)"
   ]
  },
  {
   "cell_type": "code",
   "execution_count": 8,
   "metadata": {},
   "outputs": [
    {
     "data": {
      "text/plain": [
       "(24000, 24000, 6000, 6000)"
      ]
     },
     "execution_count": 8,
     "metadata": {},
     "output_type": "execute_result"
    }
   ],
   "source": [
    "# Creating training and validation sets using an 80-20 split\n",
    "input_tensor_train, input_tensor_val, target_tensor_train, target_tensor_val = train_test_split(input_tensor, target_tensor, test_size=0.2)\n",
    "\n",
    "# Show length\n",
    "len(input_tensor_train), len(target_tensor_train), len(input_tensor_val), len(target_tensor_val)"
   ]
  },
  {
   "cell_type": "code",
   "execution_count": 9,
   "metadata": {},
   "outputs": [
    {
     "name": "stdout",
     "output_type": "stream",
     "text": [
      "Input Language; index to word mapping\n",
      "1 ----> <start>\n",
      "210 ----> dame\n",
      "19 ----> mi\n",
      "301 ----> cerveza\n",
      "3 ----> .\n",
      "2 ----> <end>\n",
      "\n",
      "Target Language; index to word mapping\n",
      "1 ----> <start>\n",
      "98 ----> give\n",
      "17 ----> me\n",
      "21 ----> my\n",
      "347 ----> beer\n",
      "3 ----> .\n",
      "2 ----> <end>\n"
     ]
    }
   ],
   "source": [
    "#按单词进行切分的\n",
    "def convert(lang, tensor):\n",
    "    for t in tensor:\n",
    "        #不等于0，就打印转换\n",
    "        if t != 0:\n",
    "            print (\"%d ----> %s\" % (t, lang.index_word[t]))\n",
    "            \n",
    "print(\"Input Language; index to word mapping\")\n",
    "convert(inp_lang, input_tensor_train[0])\n",
    "print()\n",
    "print(\"Target Language; index to word mapping\")\n",
    "convert(targ_lang, target_tensor_train[0])\n",
    "#可以发现tokenizer正常工作"
   ]
  },
  {
   "cell_type": "code",
   "execution_count": 10,
   "metadata": {},
   "outputs": [
    {
     "name": "stdout",
     "output_type": "stream",
     "text": [
      "9414\n",
      "4935\n",
      "<BatchDataset shapes: ((64, 16), (64, 11)), types: (tf.int32, tf.int32)>\n"
     ]
    }
   ],
   "source": [
    "#分batch\n",
    "BUFFER_SIZE = len(input_tensor_train)  #就是3万\n",
    "BATCH_SIZE = 64\n",
    "steps_per_epoch = len(input_tensor_train)//BATCH_SIZE\n",
    "embedding_dim = 256\n",
    "units = 1024\n",
    "#输入的\n",
    "vocab_inp_size = len(inp_lang.word_index)+1\n",
    "print(vocab_inp_size)\n",
    "#输出\n",
    "vocab_tar_size = len(targ_lang.word_index)+1\n",
    "print(vocab_tar_size)\n",
    "#训练集\n",
    "dataset = tf.data.Dataset.from_tensor_slices((input_tensor_train, target_tensor_train)).shuffle(BUFFER_SIZE)\n",
    "dataset = dataset.batch(BATCH_SIZE, drop_remainder=True)\n",
    "print(dataset)"
   ]
  },
  {
   "cell_type": "code",
   "execution_count": 11,
   "metadata": {},
   "outputs": [
    {
     "data": {
      "text/plain": [
       "(TensorShape([64, 16]), TensorShape([64, 11]))"
      ]
     },
     "execution_count": 11,
     "metadata": {},
     "output_type": "execute_result"
    }
   ],
   "source": [
    "#测试，看一下迭代\n",
    "example_input_batch, example_target_batch = next(iter(dataset))\n",
    "example_input_batch.shape, example_target_batch.shape"
   ]
  },
  {
   "cell_type": "code",
   "execution_count": 12,
   "metadata": {},
   "outputs": [
    {
     "name": "stdout",
     "output_type": "stream",
     "text": [
      "Encoder output shape: (batch size, sequence length, units) (64, 16, 1024)\n",
      "Encoder Hidden state shape: (batch size, units) (64, 1024)\n"
     ]
    }
   ],
   "source": [
    "#手法和之前的类似\n",
    "class Encoder(tf.keras.Model):\n",
    "    def __init__(self, vocab_size, embedding_dim, encoding_units, batch_size):\n",
    "        super(Encoder, self).__init__()\n",
    "        self.batch_size = batch_size\n",
    "        #编码单元\n",
    "        self.encoding_units = encoding_units\n",
    "        #创建Embedding层\n",
    "        self.embedding = keras.layers.Embedding(vocab_size, embedding_dim)\n",
    "        #定义GRU层，gru是lstm变种，gru把遗忘门和输入门变为一个，因为遗忘门+输入门=1\n",
    "        #\n",
    "        self.gru = keras.layers.GRU(self.encoding_units,\n",
    "                                    return_sequences=True,\n",
    "                                    return_state=True,\n",
    "                                    recurrent_initializer='glorot_uniform')\n",
    "\n",
    "    def call(self, x, hidden):\n",
    "        x = self.embedding(x)\n",
    "        output, state = self.gru(x, initial_state = hidden)\n",
    "        return output, state\n",
    "\n",
    "    def initialize_hidden_state(self):\n",
    "        return tf.zeros((self.batch_size, self.encoding_units))\n",
    "    \n",
    "encoder = Encoder(vocab_inp_size, embedding_dim, units, BATCH_SIZE)\n",
    "#获得初始化的hidden\n",
    "sample_hidden = encoder.initialize_hidden_state()\n",
    "#获得输出和隐含状态\n",
    "sample_output, sample_hidden = encoder(example_input_batch, sample_hidden)\n",
    "#输出的16是长度，1024是状态的size\n",
    "print('Encoder output shape: (batch size, sequence length, units) {}'.format(sample_output.shape))\n",
    "print('Encoder Hidden state shape: (batch size, units) {}'.format(sample_hidden.shape))"
   ]
  },
  {
   "cell_type": "code",
   "execution_count": 13,
   "metadata": {},
   "outputs": [
    {
     "data": {
      "text/plain": [
       "[<tf.Variable 'encoder/embedding/embeddings:0' shape=(9414, 256) dtype=float32, numpy=\n",
       " array([[ 0.04671485,  0.01189855,  0.02147493, ...,  0.03067914,\n",
       "          0.03303467,  0.0427185 ],\n",
       "        [-0.03864758, -0.0002184 ,  0.03279959, ...,  0.0362952 ,\n",
       "         -0.04497422, -0.01754415],\n",
       "        [ 0.0130492 ,  0.03716859, -0.02316246, ...,  0.04467693,\n",
       "          0.03439245, -0.02484012],\n",
       "        ...,\n",
       "        [-0.03698006,  0.0413746 ,  0.0275726 , ..., -0.02932804,\n",
       "          0.04700651,  0.01275053],\n",
       "        [-0.0160211 ,  0.04083098,  0.04068948, ...,  0.04647681,\n",
       "         -0.0369133 , -0.04631835],\n",
       "        [ 0.00596923,  0.04778696,  0.00046456, ...,  0.04530852,\n",
       "         -0.01401461, -0.01542314]], dtype=float32)>,\n",
       " <tf.Variable 'encoder/gru/gru_cell/kernel:0' shape=(256, 3072) dtype=float32, numpy=\n",
       " array([[-0.02320994, -0.03243846, -0.02924444, ..., -0.00537131,\n",
       "          0.00075901,  0.01403922],\n",
       "        [-0.03995006, -0.01181785, -0.04012582, ..., -0.04138472,\n",
       "         -0.02807993,  0.02509062],\n",
       "        [ 0.00314756, -0.02764609,  0.04155123, ..., -0.01620031,\n",
       "          0.03413273,  0.00458657],\n",
       "        ...,\n",
       "        [ 0.00071248,  0.03512773,  0.0001693 , ...,  0.01447875,\n",
       "         -0.03320669,  0.003126  ],\n",
       "        [-0.02856268, -0.04107051,  0.02486244, ...,  0.04020809,\n",
       "          0.00895253,  0.02260933],\n",
       "        [-0.02085169, -0.01400313,  0.01144255, ..., -0.0072342 ,\n",
       "         -0.00590879, -0.03538493]], dtype=float32)>,\n",
       " <tf.Variable 'encoder/gru/gru_cell/recurrent_kernel:0' shape=(1024, 3072) dtype=float32, numpy=\n",
       " array([[-0.01426578, -0.03696902, -0.02446485, ..., -0.03352556,\n",
       "          0.03706161,  0.03437582],\n",
       "        [-0.02974614,  0.01207696, -0.03289991, ..., -0.00468272,\n",
       "         -0.02290901,  0.01084865],\n",
       "        [ 0.02963855, -0.00821596, -0.03353462, ..., -0.03452191,\n",
       "          0.02242556, -0.00087998],\n",
       "        ...,\n",
       "        [-0.00371134, -0.01670051, -0.01481295, ..., -0.01530253,\n",
       "         -0.00644311,  0.02912426],\n",
       "        [ 0.00120223, -0.02311549,  0.0172918 , ..., -0.02278162,\n",
       "         -0.03000764,  0.00157779],\n",
       "        [-0.03218453, -0.02598005,  0.01216146, ...,  0.01022876,\n",
       "          0.02631738,  0.01484782]], dtype=float32)>,\n",
       " <tf.Variable 'encoder/gru/gru_cell/bias:0' shape=(2, 3072) dtype=float32, numpy=\n",
       " array([[0., 0., 0., ..., 0., 0., 0.],\n",
       "        [0., 0., 0., ..., 0., 0., 0.]], dtype=float32)>]"
      ]
     },
     "execution_count": 13,
     "metadata": {},
     "output_type": "execute_result"
    }
   ],
   "source": [
    "#理解模型中去做的运算\n",
    "encoder.variables"
   ]
  },
  {
   "cell_type": "code",
   "execution_count": 16,
   "metadata": {},
   "outputs": [
    {
     "name": "stdout",
     "output_type": "stream",
     "text": [
      "(64, 16, 1024)\n",
      "Attention result shape: (batch size, units) (64, 1024)\n",
      "Attention weights shape: (batch_size, sequence_length, 1) (64, 16, 1)\n"
     ]
    }
   ],
   "source": [
    "#实现Attention机制\n",
    "class BahdanauAttention(tf.keras.Model):\n",
    "    def __init__(self, units):\n",
    "        super(BahdanauAttention, self).__init__()\n",
    "        #做全连接\n",
    "        self.W1 = tf.keras.layers.Dense(units)\n",
    "        self.W2 = tf.keras.layers.Dense(units)\n",
    "        self.V = tf.keras.layers.Dense(1)\n",
    "    \n",
    "    #query传的是decoder_ hidden\n",
    "    def call(self, query, values):\n",
    "        # deocoder_ hidden. shape: (batch_ size,units )\n",
    "        # encoder outputs.shape: ( batch size, length,units )\n",
    "        #做维度扩展，扩展前后对比是下面两行\n",
    "        # hidden shape == (batch_size, hidden size)\n",
    "        # hidden_with_time_axis shape == (batch_size, 1, hidden size)\n",
    "        # we are doing this to perform addition to calculate the score\n",
    "        hidden_with_time_axis = tf.expand_dims(query, 1)\n",
    "        \n",
    "        #接下来要实现Attention,Bahdanau方式的\n",
    "        # beforeV:(batch_ size,length,units )\n",
    "        # after V( batch_ size,length,1)\n",
    "        # score shape == (batch_size, max_length, 1)\n",
    "        # we get 1 at the last axis because we are applying score to self.V\n",
    "        # the shape of the tensor before applying self.V is (batch_size, max_length, units)\n",
    "        score = self.V(tf.nn.tanh(self.W1(values) + self.W2(hidden_with_time_axis)))\n",
    "\n",
    "        # attention_weights shape == (batch_size, max_length, 1)\n",
    "        attention_weights = tf.nn.softmax(score, axis=1)\n",
    "\n",
    "        #先算加权，values就是encoder_outputs\n",
    "        # context_vector.shape: ( batch size, length units )\n",
    "        context_vector = attention_weights * values\n",
    "        print(context_vector.shape)\n",
    "        #再算平均，在length的维度去求和\n",
    "        # context_vector shape after sum == (batch_size, hidden_size)\n",
    "        context_vector = tf.reduce_sum(context_vector, axis=1)\n",
    "\n",
    "        return context_vector, attention_weights\n",
    "    \n",
    "attention_layer = BahdanauAttention(10)\n",
    "attention_result, attention_weights = attention_layer(sample_hidden, sample_output)\n",
    "\n",
    "print(\"Attention result shape: (batch size, units) {}\".format(attention_result.shape))\n",
    "print(\"Attention weights shape: (batch_size, sequence_length, 1) {}\".format(attention_weights.shape))"
   ]
  },
  {
   "cell_type": "code",
   "execution_count": 15,
   "metadata": {},
   "outputs": [
    {
     "data": {
      "text/plain": [
       "[<tf.Variable 'bahdanau_attention/dense/kernel:0' shape=(1024, 10) dtype=float32, numpy=\n",
       " array([[-0.02024807,  0.01345862, -0.0581118 , ...,  0.02775935,\n",
       "          0.02869271, -0.06540549],\n",
       "        [-0.00253978, -0.06717075,  0.01246466, ..., -0.07013195,\n",
       "         -0.03045007,  0.04207645],\n",
       "        [-0.04580344,  0.03862999, -0.05011335, ..., -0.01980276,\n",
       "          0.0758117 , -0.07556204],\n",
       "        ...,\n",
       "        [ 0.00858106,  0.02645639, -0.07338597, ...,  0.07143164,\n",
       "         -0.0576139 , -0.00617685],\n",
       "        [ 0.01155895, -0.04075973,  0.03369672, ..., -0.07051336,\n",
       "          0.02949005, -0.04077528],\n",
       "        [ 0.071394  , -0.04427236,  0.01206853, ..., -0.06781773,\n",
       "         -0.0269329 , -0.04245042]], dtype=float32)>,\n",
       " <tf.Variable 'bahdanau_attention/dense/bias:0' shape=(10,) dtype=float32, numpy=array([0., 0., 0., 0., 0., 0., 0., 0., 0., 0.], dtype=float32)>,\n",
       " <tf.Variable 'bahdanau_attention/dense_1/kernel:0' shape=(1024, 10) dtype=float32, numpy=\n",
       " array([[-0.07188162, -0.02617191, -0.0259563 , ..., -0.02406009,\n",
       "         -0.0212465 , -0.04483319],\n",
       "        [-0.02153865,  0.05320862, -0.07575044, ...,  0.01685189,\n",
       "         -0.0217133 ,  0.0484662 ],\n",
       "        [-0.01247268, -0.00341824,  0.03029876, ...,  0.03957558,\n",
       "          0.00304689,  0.00012748],\n",
       "        ...,\n",
       "        [-0.05837069,  0.05098307, -0.07602969, ...,  0.00799055,\n",
       "          0.06734993,  0.06848061],\n",
       "        [ 0.05027509,  0.02105314, -0.00441112, ..., -0.04077971,\n",
       "         -0.032476  , -0.01487461],\n",
       "        [ 0.06065604,  0.06537241, -0.04836335, ...,  0.05498703,\n",
       "          0.0680849 ,  0.01028075]], dtype=float32)>,\n",
       " <tf.Variable 'bahdanau_attention/dense_1/bias:0' shape=(10,) dtype=float32, numpy=array([0., 0., 0., 0., 0., 0., 0., 0., 0., 0.], dtype=float32)>,\n",
       " <tf.Variable 'bahdanau_attention/dense_2/kernel:0' shape=(10, 1) dtype=float32, numpy=\n",
       " array([[ 0.09502465],\n",
       "        [ 0.6043357 ],\n",
       "        [ 0.27736026],\n",
       "        [-0.3157628 ],\n",
       "        [-0.12297374],\n",
       "        [ 0.16093427],\n",
       "        [-0.7367309 ],\n",
       "        [ 0.57443696],\n",
       "        [ 0.6631748 ],\n",
       "        [ 0.1301108 ]], dtype=float32)>,\n",
       " <tf.Variable 'bahdanau_attention/dense_2/bias:0' shape=(1,) dtype=float32, numpy=array([0.], dtype=float32)>]"
      ]
     },
     "execution_count": 15,
     "metadata": {},
     "output_type": "execute_result"
    }
   ],
   "source": [
    "attention_layer.variables"
   ]
  },
  {
   "cell_type": "code",
   "execution_count": 17,
   "metadata": {
    "scrolled": true
   },
   "outputs": [
    {
     "name": "stdout",
     "output_type": "stream",
     "text": [
      "(64, 16, 1024)\n",
      "(64, 1024) (64, 1, 256)\n",
      "(64, 1, 1280)\n",
      "(64, 1, 1024)\n",
      "output变换后\n",
      "(64, 1024)\n",
      "Decoder output shape: (batch_size, vocab size) (64, 4935)\n",
      "decoder_hidden.shape:  (64, 1024)\n",
      "decoder_attention_weights.shape: (64, 16, 1)\n"
     ]
    }
   ],
   "source": [
    "#接着我们实现decoder\n",
    "class Decoder(tf.keras.Model):\n",
    "    #init传参和encoder很像\n",
    "    def __init__(self, vocab_size, embedding_dim, decoding_units, batch_size):\n",
    "        #这里必须调用父类\n",
    "        super(Decoder, self).__init__()\n",
    "        self.batch_size = batch_size\n",
    "        self.decoding_units = decoding_units\n",
    "        #Embedding 层\n",
    "        self.embedding = keras.layers.Embedding(vocab_size, embedding_dim)\n",
    "        #GRU的decoder\n",
    "        self.gru = keras.layers.GRU(self.decoding_units,\n",
    "                                    return_sequences=True,\n",
    "                                    return_state=True,\n",
    "                                    recurrent_initializer='glorot_uniform')\n",
    "        self.fc = keras.layers.Dense(vocab_size)\n",
    "\n",
    "        # used for attention，每一步都会被调用\n",
    "        self.attention = BahdanauAttention(self.decoding_units)\n",
    "\n",
    "    #照着原来的原理图理解\n",
    "    def call(self, x, hidden, encoding_output):\n",
    "        # context vector. shape: ( batch size, units）\n",
    "        # enc_output shape == (batch_size, max_length, hidden_size)\n",
    "        context_vector, attention_weights = self.attention(hidden, encoding_output)\n",
    "\n",
    "        # before embedding: x. shape: (batch_ size, 1 )\n",
    "        # after embedding : x. shape: (batch size, 1， embedding units)\n",
    "        # x shape after passing through embedding == (batch_size, 1, embedding_dim)\n",
    "        x = self.embedding(x)\n",
    "        print(context_vector.shape,x.shape)\n",
    "        #把x和context_vector拼起来，context_vector为什么要扩展维度？\n",
    "        # x shape after concatenation == (batch_size, 1, embedding_dim + hidden_size)\n",
    "        x = tf.concat([tf.expand_dims(context_vector, 1), x], axis=-1)\n",
    "        print(x.shape)\n",
    "        # passing the concatenated vector to the GRU\n",
    "        # output. shape:[batch_size,1,decoding_units ]\n",
    "        #state. shape:[batch_size, decoding_units ]\n",
    "        output, state = self.gru(x)\n",
    "        print(output.shape)\n",
    "        # output shape == (batch_size * 1, hidden_size)\n",
    "        output = tf.reshape(output, (-1, output.shape[2]))\n",
    "        print('output变换后')\n",
    "        print(output.shape)\n",
    "        # output shape == (batch_size, vocab)\n",
    "        x = self.fc(output)\n",
    "\n",
    "        return x, state, attention_weights\n",
    "\n",
    "decoder = Decoder(vocab_tar_size, embedding_dim, units, BATCH_SIZE)\n",
    "sample_decoder_output,decoder_hidden,decoder_aw = decoder(tf.random.uniform((64, 1)),\n",
    "                                      sample_hidden, sample_output)\n",
    "print ('Decoder output shape: (batch_size, vocab size) {}'.format(sample_decoder_output.shape))\n",
    "print( \"decoder_hidden.shape: \",decoder_hidden.shape )\n",
    "print( \"decoder_attention_weights.shape:\",decoder_aw.shape )\n"
   ]
  },
  {
   "cell_type": "code",
   "execution_count": 18,
   "metadata": {},
   "outputs": [],
   "source": [
    "#我们用的优化器是adam\n",
    "optimizer = keras.optimizers.Adam()\n",
    "#分类问题我们往往用SparseCategoricalCrossentropy，因为我们的fc是纯的输出，没有加softmax，\n",
    "# 因此这里的from_logits为True，否则改为false，reduction是损失函数如何做聚合\n",
    "loss_object = keras.losses.SparseCategoricalCrossentropy(from_logits=True, reduction='none')\n",
    "\n",
    "def loss_function(real, pred):\n",
    "    #是零的时候返回结果是True，因此要取反操作\n",
    "    #tf.math.equal(real, 0)是padding的部分都是1，不是padding的部分都是零，因此我们要取反\n",
    "    mask = tf.math.logical_not(tf.math.equal(real, 0))\n",
    "    \n",
    "    loss_ = loss_object(real, pred)\n",
    "    #将张量转换为新类型,变为float类型\n",
    "    mask = tf.cast(mask, dtype=loss_.dtype)\n",
    "    #padding部分的mask是零\n",
    "    loss_ *= mask\n",
    "    #计算累计的损失平均\n",
    "    return tf.reduce_mean(loss_)\n",
    "\n",
    "checkpoint_dir = './8-1_checkpoints'\n",
    "if not os.path.exists(checkpoint_dir):\n",
    "    os.mkdir(checkpoint_dir)\n",
    "checkpoint_prefix = os.path.join(checkpoint_dir, \"ckpt\")\n",
    "checkpoint = tf.train.Checkpoint(optimizer=optimizer,\n",
    "                                 encoder=encoder,\n",
    "                                 decoder=decoder)"
   ]
  },
  {
   "cell_type": "code",
   "execution_count": 19,
   "metadata": {},
   "outputs": [
    {
     "data": {
      "text/plain": [
       "<tf.Tensor: shape=(64, 1), dtype=int32, numpy=\n",
       "array([[1],\n",
       "       [1],\n",
       "       [1],\n",
       "       [1],\n",
       "       [1],\n",
       "       [1],\n",
       "       [1],\n",
       "       [1],\n",
       "       [1],\n",
       "       [1],\n",
       "       [1],\n",
       "       [1],\n",
       "       [1],\n",
       "       [1],\n",
       "       [1],\n",
       "       [1],\n",
       "       [1],\n",
       "       [1],\n",
       "       [1],\n",
       "       [1],\n",
       "       [1],\n",
       "       [1],\n",
       "       [1],\n",
       "       [1],\n",
       "       [1],\n",
       "       [1],\n",
       "       [1],\n",
       "       [1],\n",
       "       [1],\n",
       "       [1],\n",
       "       [1],\n",
       "       [1],\n",
       "       [1],\n",
       "       [1],\n",
       "       [1],\n",
       "       [1],\n",
       "       [1],\n",
       "       [1],\n",
       "       [1],\n",
       "       [1],\n",
       "       [1],\n",
       "       [1],\n",
       "       [1],\n",
       "       [1],\n",
       "       [1],\n",
       "       [1],\n",
       "       [1],\n",
       "       [1],\n",
       "       [1],\n",
       "       [1],\n",
       "       [1],\n",
       "       [1],\n",
       "       [1],\n",
       "       [1],\n",
       "       [1],\n",
       "       [1],\n",
       "       [1],\n",
       "       [1],\n",
       "       [1],\n",
       "       [1],\n",
       "       [1],\n",
       "       [1],\n",
       "       [1],\n",
       "       [1]], dtype=int32)>"
      ]
     },
     "execution_count": 19,
     "metadata": {},
     "output_type": "execute_result"
    }
   ],
   "source": [
    "tf.expand_dims([targ_lang.word_index['<start>']] * BATCH_SIZE, 1)"
   ]
  },
  {
   "cell_type": "code",
   "execution_count": 20,
   "metadata": {},
   "outputs": [],
   "source": [
    "@tf.function\n",
    "def train_step(inp, targ, encoding_hidden):\n",
    "    loss = 0\n",
    "\n",
    "    with tf.GradientTape() as tape:\n",
    "        #把输入给encoder，得到encoding_output, encoding_hidden\n",
    "        encoding_output, encoding_hidden = encoder(inp, encoding_hidden)\n",
    "\n",
    "        decoding_hidden = encoding_hidden\n",
    "        #第一次给进去的decoding_input全部是1，是64个1\n",
    "        decoding_input = tf.expand_dims([targ_lang.word_index['<start>']] * BATCH_SIZE, 1)\n",
    "        \n",
    "        #eg: <start> I am here <end>\n",
    "        #1.<start>->I\n",
    "        #2.I->am\n",
    "        #3.am->here\n",
    "        # 4. here ->< end>\n",
    "        #对于here，我们相当于要把I am  的信息都要给过去\n",
    "        # Teacher forcing - feeding the target as the next input\n",
    "        for t in range(1, targ.shape[1]):\n",
    "            # passing enc_output to the decoder\n",
    "            #根据我们前面的原理解析，我们这里需要给3项信息\n",
    "            predictions, decoding_hidden, _ = decoder(decoding_input, decoding_hidden, encoding_output)\n",
    "\n",
    "            loss += loss_function(targ[:, t], predictions)\n",
    "\n",
    "            # using teacher forcing\n",
    "            decoding_input = tf.expand_dims(targ[:, t], 1)\n",
    "            \n",
    "    #这里是每个batch上平均的损失函数\n",
    "    batch_loss = (loss / int(targ.shape[1]))\n",
    "    variables = encoder.trainable_variables + decoder.trainable_variables\n",
    "    #求梯度\n",
    "    gradients = tape.gradient(loss, variables)\n",
    "    #有了梯度以后，可以用optimizer去做apply\n",
    "    optimizer.apply_gradients(zip(gradients, variables))\n",
    "    return batch_loss"
   ]
  },
  {
   "cell_type": "code",
   "execution_count": 20,
   "metadata": {},
   "outputs": [
    {
     "data": {
      "text/plain": [
       "375"
      ]
     },
     "execution_count": 20,
     "metadata": {},
     "output_type": "execute_result"
    }
   ],
   "source": [
    "steps_per_epoch"
   ]
  },
  {
   "cell_type": "code",
   "execution_count": 16,
   "metadata": {},
   "outputs": [
    {
     "name": "stdout",
     "output_type": "stream",
     "text": [
      "Epoch 1 Batch 0 Loss 4.5784\n",
      "Epoch 1 Batch 100 Loss 2.3032\n",
      "Epoch 1 Batch 200 Loss 1.9634\n",
      "Epoch 1 Batch 300 Loss 1.7466\n",
      "Epoch 1 Loss 2.0365\n",
      "Time taken for 1 epoch 496.7310721874237 sec\n",
      "\n",
      "Epoch 2 Batch 0 Loss 1.5483\n",
      "Epoch 2 Batch 100 Loss 1.4653\n",
      "Epoch 2 Batch 200 Loss 1.4231\n",
      "Epoch 2 Batch 300 Loss 1.2800\n",
      "Epoch 2 Loss 1.3812\n",
      "Time taken for 1 epoch 459.33327984809875 sec\n",
      "\n",
      "Epoch 3 Batch 0 Loss 1.0923\n",
      "Epoch 3 Batch 100 Loss 0.9953\n",
      "Epoch 3 Batch 200 Loss 0.9612\n",
      "Epoch 3 Batch 300 Loss 0.9148\n",
      "Epoch 3 Loss 0.9547\n",
      "Time taken for 1 epoch 451.43853783607483 sec\n",
      "\n",
      "Epoch 4 Batch 0 Loss 0.6652\n",
      "Epoch 4 Batch 100 Loss 0.7405\n",
      "Epoch 4 Batch 200 Loss 0.5256\n",
      "Epoch 4 Batch 300 Loss 0.5763\n",
      "Epoch 4 Loss 0.6456\n",
      "Time taken for 1 epoch 469.2217469215393 sec\n",
      "\n",
      "Epoch 5 Batch 0 Loss 0.4117\n",
      "Epoch 5 Batch 100 Loss 0.4573\n",
      "Epoch 5 Batch 200 Loss 0.4439\n",
      "Epoch 5 Batch 300 Loss 0.5202\n",
      "Epoch 5 Loss 0.4385\n",
      "Time taken for 1 epoch 484.8175148963928 sec\n",
      "\n",
      "Epoch 6 Batch 0 Loss 0.2856\n",
      "Epoch 6 Batch 100 Loss 0.3478\n",
      "Epoch 6 Batch 200 Loss 0.4009\n",
      "Epoch 6 Batch 300 Loss 0.2956\n",
      "Epoch 6 Loss 0.3038\n",
      "Time taken for 1 epoch 454.1222198009491 sec\n",
      "\n",
      "Epoch 7 Batch 0 Loss 0.1793\n",
      "Epoch 7 Batch 100 Loss 0.2322\n",
      "Epoch 7 Batch 200 Loss 0.2251\n",
      "Epoch 7 Batch 300 Loss 0.2558\n",
      "Epoch 7 Loss 0.2178\n",
      "Time taken for 1 epoch 470.25316762924194 sec\n",
      "\n",
      "Epoch 8 Batch 0 Loss 0.1274\n",
      "Epoch 8 Batch 100 Loss 0.1321\n",
      "Epoch 8 Batch 200 Loss 0.1496\n",
      "Epoch 8 Batch 300 Loss 0.1522\n",
      "Epoch 8 Loss 0.1614\n",
      "Time taken for 1 epoch 483.50257563591003 sec\n",
      "\n",
      "Epoch 9 Batch 0 Loss 0.1658\n",
      "Epoch 9 Batch 100 Loss 0.0947\n",
      "Epoch 9 Batch 200 Loss 0.1676\n",
      "Epoch 9 Batch 300 Loss 0.1455\n",
      "Epoch 9 Loss 0.1265\n",
      "Time taken for 1 epoch 489.75121307373047 sec\n",
      "\n",
      "Epoch 10 Batch 0 Loss 0.0855\n",
      "Epoch 10 Batch 100 Loss 0.0765\n",
      "Epoch 10 Batch 200 Loss 0.1047\n",
      "Epoch 10 Batch 300 Loss 0.1175\n",
      "Epoch 10 Loss 0.1016\n",
      "Time taken for 1 epoch 470.8816955089569 sec\n",
      "\n"
     ]
    }
   ],
   "source": [
    "EPOCHS = 10\n",
    "#这里运行时间比较久\n",
    "for epoch in range(EPOCHS):\n",
    "    start = time.time()\n",
    "\n",
    "    encoding_hidden = encoder.initialize_hidden_state()#第一次，全零的隐含状态\n",
    "    total_loss = 0\n",
    "    #每次去取dataset.take(steps_per_epoch)这么多数据\n",
    "    for (batch, (inp, targ)) in enumerate(dataset.take(steps_per_epoch)):\n",
    "        batch_loss = train_step(inp, targ, encoding_hidden)\n",
    "        total_loss += batch_loss\n",
    "        #这里增加打印\n",
    "        if batch % 100 == 0:\n",
    "            print('Epoch {} Batch {} Loss {:.4f}'.format(epoch + 1, batch, batch_loss.numpy()))\n",
    "    # saving (checkpoint) the model every 2 epochs，保存模型\n",
    "    if (epoch + 1) % 2 == 0:\n",
    "        checkpoint.save(file_prefix = checkpoint_prefix)\n",
    "\n",
    "    print('Epoch {} Loss {:.4f}'.format(epoch + 1, total_loss / steps_per_epoch))\n",
    "    print('Time taken for 1 epoch {} sec\\n'.format(time.time() - start))"
   ]
  },
  {
   "cell_type": "code",
   "execution_count": 17,
   "metadata": {},
   "outputs": [
    {
     "data": {
      "text/plain": [
       "<tensorflow.python.training.tracking.util.CheckpointLoadStatus at 0x7f41819d4588>"
      ]
     },
     "execution_count": 17,
     "metadata": {},
     "output_type": "execute_result"
    }
   ],
   "source": [
    "#接收字符串，并进行翻译\n",
    "def evaluate(sentence):\n",
    "    attention_plot = np.zeros((max_length_targ, max_length_inp))\n",
    "    #对输入的语言做和训练时同样的预处理后，再进行word转id\n",
    "    sentence = preprocess_sentence(sentence)\n",
    "    #text到id的转换\n",
    "    inputs = [inp_lang.word_index[i] for i in sentence.split(' ')]\n",
    "    #加padding\n",
    "    inputs = keras.preprocessing.sequence.pad_sequences([inputs], maxlen=max_length_inp, padding='post')\n",
    "    inputs = tf.convert_to_tensor(inputs)\n",
    "    #结果先初始化一个空串\n",
    "    result = ''\n",
    "\n",
    "    hidden = [tf.zeros((1, units))]\n",
    "    encoding_out, encoding_hidden = encoder(inputs, hidden)\n",
    "    #按模型把encoding_hidden给decoding_hidden\n",
    "    decoding_hidden = encoding_hidden\n",
    "    #第一次的decoding_input是全为1的（64,1)的矩阵\n",
    "    decoding_input = tf.expand_dims([targ_lang.word_index['<start>']], 0)\n",
    "    #eg:<start>->A\n",
    "    #A->B->C-> D\n",
    "    # decoding_ input. shape:(1， 1)\n",
    "    for t in range(max_length_targ):\n",
    "        predictions, decoding_hidden, attention_weights = decoder(\n",
    "            decoding_input, decoding_hidden, encoding_out)\n",
    "        \n",
    "        # attention weights. shape: (batch size, input length, 1) (1， 16， 1 )，需要变为长度为16的向量\n",
    "        # storing the attention weights to plot later on\n",
    "        attention_weights = tf.reshape(attention_weights, (-1, ))\n",
    "        attention_plot[t] = attention_weights.numpy() #为了画图\n",
    "        # predictions.shape: (batch_ size, vocab_ size) (1， 4935)\n",
    "        #获取概率最大的值作为下一步的输入\n",
    "        predicted_id = tf.argmax(predictions[0]).numpy()\n",
    "        #通过id知道单词\n",
    "        result += targ_lang.index_word[predicted_id] + ' '\n",
    "        \n",
    "        #终止循环\n",
    "        if targ_lang.index_word[predicted_id] == '<end>':\n",
    "            return result, sentence, attention_plot\n",
    "\n",
    "        # the predicted ID is fed back into the model\n",
    "        decoding_input = tf.expand_dims([predicted_id], 0)\n",
    "    #到此decoding_input，decoding_hidden我们都做了更新\n",
    "    \n",
    "    return result, sentence, attention_plot\n",
    "\n",
    "# function for plotting the attention weights，把注意力关系完成可视化\n",
    "def plot_attention(attention, sentence, predicted_sentence):\n",
    "    fig = plt.figure(figsize=(10,10))\n",
    "    ax = fig.add_subplot(1, 1, 1)\n",
    "    ax.matshow(attention, cmap='viridis')\n",
    "\n",
    "    fontdict = {'fontsize': 14}\n",
    "    #把标注写上，我们需要把第零个位置空出来，看图即可看出\n",
    "    ax.set_xticklabels([''] + sentence, fontdict=fontdict, rotation=90)\n",
    "    ax.set_yticklabels([''] + predicted_sentence, fontdict=fontdict)\n",
    "\n",
    "    plt.show()\n",
    "\n",
    "#通过这个函数，把上面两个函数串起来\n",
    "def translate(sentence):\n",
    "    result, sentence, attention_plot = evaluate(sentence)\n",
    "\n",
    "    print('Input: %s' % (sentence))\n",
    "    print('Predicted translation: {}'.format(result))\n",
    "    \n",
    "    #因为输出不一定有输入的长度长，也就是result长度小于输入的长度\n",
    "    attention_plot = attention_plot[:len(result.split(' ')), :len(sentence.split(' '))]\n",
    "    plot_attention(attention_plot, sentence.split(' '), result.split(' '))\n",
    "    \n",
    "\n",
    "checkpoint.restore(tf.train.latest_checkpoint(checkpoint_dir))"
   ]
  },
  {
   "cell_type": "code",
   "execution_count": 18,
   "metadata": {},
   "outputs": [
    {
     "name": "stdout",
     "output_type": "stream",
     "text": [
      "Input: <start> hace mucho frio aqui . <end>\n",
      "Predicted translation: it is very cold here . <end> \n"
     ]
    },
    {
     "data": {
      "image/png": "[encoded data removed]",
      "text/plain": [
       "<Figure size 720x720 with 1 Axes>"
      ]
     },
     "metadata": {
      "needs_background": "light"
     },
     "output_type": "display_data"
    }
   ],
   "source": [
    "#it is terribly cold here\n",
    "translate(u'hace mucho frio aqui.')"
   ]
  },
  {
   "cell_type": "code",
   "execution_count": 18,
   "metadata": {},
   "outputs": [
    {
     "name": "stdout",
     "output_type": "stream",
     "text": [
      "Input: <start> esta es mi vida . <end>\n",
      "Predicted translation: this is my life . <end> \n"
     ]
    },
    {
     "data": {
      "image/png": "[encoded data removed]",
      "text/plain": [
       "<Figure size 720x720 with 1 Axes>"
      ]
     },
     "metadata": {
      "needs_background": "light"
     },
     "output_type": "display_data"
    }
   ],
   "source": [
    "translate(u'esta es mi vida.')"
   ]
  },
  {
   "cell_type": "code",
   "execution_count": 19,
   "metadata": {},
   "outputs": [
    {
     "name": "stdout",
     "output_type": "stream",
     "text": [
      "Input: <start> ¿ todavia estan en casa ? <end>\n",
      "Predicted translation: are you still home ? <end> \n"
     ]
    },
    {
     "data": {
      "image/png": "[encoded data removed]",
      "text/plain": [
       "<Figure size 720x720 with 1 Axes>"
      ]
     },
     "metadata": {
      "needs_background": "light"
     },
     "output_type": "display_data"
    }
   ],
   "source": [
    "translate(u'¿todavia estan en casa?')"
   ]
  },
  {
   "cell_type": "code",
   "execution_count": 20,
   "metadata": {},
   "outputs": [
    {
     "name": "stdout",
     "output_type": "stream",
     "text": [
      "Input: <start> trata de averiguarlo . <end>\n",
      "Predicted translation: try to figure it out . <end> \n"
     ]
    },
    {
     "data": {
      "image/png": "[encoded data removed]",
      "text/plain": [
       "<Figure size 720x720 with 1 Axes>"
      ]
     },
     "metadata": {
      "needs_background": "light"
     },
     "output_type": "display_data"
    }
   ],
   "source": [
    "translate(u'trata de averiguarlo.')"
   ]
  },
  {
   "cell_type": "code",
   "execution_count": null,
   "metadata": {},
   "outputs": [],
   "source": []
  }
 ],
 "metadata": {
  "kernelspec": {
   "display_name": "Python 3",
   "language": "python",
   "name": "python3"
  },
  "language_info": {
   "codemirror_mode": {
    "name": "ipython",
    "version": 3
   },
   "file_extension": ".py",
   "mimetype": "text/x-python",
   "name": "python",
   "nbconvert_exporter": "python",
   "pygments_lexer": "ipython3",
   "version": "3.6.8"
  }
 },
 "nbformat": 4,
 "nbformat_minor": 2
}
